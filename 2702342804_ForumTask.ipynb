{
 "cells": [
  {
   "cell_type": "code",
   "execution_count": 7,
   "metadata": {},
   "outputs": [
    {
     "name": "stdout",
     "output_type": "stream",
     "text": [
      "Name: Lloyd\n",
      "Homework: [90.0, 97.0, 75.0, 92.0]\n",
      "Quizzes: [88.0, 40.0, 94.0]\n",
      "Tests: [75.0, 90.0]\n",
      "Name: Alice\n",
      "Homework: [100.0, 92.0, 98.0, 100.0]\n",
      "Quizzes: [82.0, 83.0, 91.0]\n",
      "Tests: [89.0, 97.0]\n",
      "Name: Tyler\n",
      "Homework: [0.0, 87.0, 75.0, 22.0]\n",
      "Quizzes: [0.0, 75.0, 78.0]\n",
      "Tests: [100.0, 100.0]\n"
     ]
    }
   ],
   "source": [
    "\n",
    "lloyd = {\n",
    " \"name\": \"Lloyd\",\n",
    " \"homework\": [90.0,97.0,75.0,92.0],\n",
    " \"quizzes\": [88.0,40.0,94.0],\n",
    " \"tests\": [75.0,90.0]\n",
    "}\n",
    "alice = {\n",
    " \"name\": \"Alice\",\n",
    " \"homework\": [100.0, 92.0, 98.0, 100.0],\n",
    " \"quizzes\": [82.0, 83.0, 91.0],\n",
    " \"tests\": [89.0, 97.0]\n",
    "}\n",
    "tyler = {\n",
    " \"name\": \"Tyler\",\n",
    " \"homework\": [0.0, 87.0, 75.0, 22.0],\n",
    " \"quizzes\": [0.0, 75.0, 78.0],\n",
    " \"tests\": [100.0, 100.0]\n",
    "}\n",
    "\n",
    "for student in students:\n",
    "    print(\"Name:\", student[\"name\"])\n",
    "    print(\"Homework:\", student[\"homework\"])\n",
    "    print(\"Quizzes:\", student[\"quizzes\"])\n",
    "    print(\"Tests:\", student[\"tests\"])\n",
    "\n",
    "def average(numbers):\n",
    "    total = sum(numbers)\n",
    "    total = float(total)\n",
    "    average = total / len(numbers)\n",
    "    return average\n",
    "\n",
    "def get_average(student):\n",
    "    homework = average(student[\"homework\"])\n",
    "    quizzes = average(student[\"quizzes\"])\n",
    "    tests = average(student[\"tests\"])\n",
    "\n",
    "    homework_weight = 0.1\n",
    "    quizzes_weight = 0.3\n",
    "    tests_weight = 0.6\n",
    "\n",
    "    weighted_average = (homework * homework_weight +\n",
    "                       quizzes * quizzes_weight +\n",
    "                       tests * tests_weight)\n",
    "    return weighted_average\n",
    "\n",
    "def get_letter_grade(score):\n",
    "    if score >= 90:\n",
    "        return \"A\"\n",
    "    elif score >= 80:\n",
    "        return \"B\"\n",
    "    elif score >= 70:\n",
    "        return \"C\"\n",
    "    elif score >= 60:\n",
    "        return \"D\"\n",
    "    else:\n",
    "        return \"F\"\n",
    "    \n",
    "def get_class_average(students):\n",
    "    results = []\n",
    "    for student in students:\n",
    "        student_average = get_average(student)\n",
    "        results.append(student_average)\n",
    "    class_average = average(results)\n",
    "    return class_average\n",
    "\n"
   ]
  },
  {
   "cell_type": "markdown",
   "metadata": {},
   "source": []
  },
  {
   "cell_type": "code",
   "execution_count": 9,
   "metadata": {},
   "outputs": [
    {
     "ename": "KeyboardInterrupt",
     "evalue": "Interrupted by user",
     "output_type": "error",
     "traceback": [
      "\u001b[0;31m---------------------------------------------------------------------------\u001b[0m",
      "\u001b[0;31mKeyboardInterrupt\u001b[0m                         Traceback (most recent call last)",
      "\u001b[1;32mUntitled-1.ipynb Cell 3\u001b[0m line \u001b[0;36m2\n\u001b[1;32m     <a href='vscode-notebook-cell:Untitled-1.ipynb?jupyter-notebook#W2sdW50aXRsZWQ%3D?line=10'>11</a>\u001b[0m course_instructors\u001b[39m=\u001b[39m {\n\u001b[1;32m     <a href='vscode-notebook-cell:Untitled-1.ipynb?jupyter-notebook#W2sdW50aXRsZWQ%3D?line=11'>12</a>\u001b[0m     \u001b[39m\"\u001b[39m\u001b[39mCOP 2510\u001b[39m\u001b[39m\"\u001b[39m: \u001b[39m\"\u001b[39m\u001b[39mZ. Beasley\u001b[39m\u001b[39m\"\u001b[39m,\n\u001b[1;32m     <a href='vscode-notebook-cell:Untitled-1.ipynb?jupyter-notebook#W2sdW50aXRsZWQ%3D?line=12'>13</a>\u001b[0m     \u001b[39m\"\u001b[39m\u001b[39mEGN 3000L\u001b[39m\u001b[39m\"\u001b[39m: \u001b[39m\"\u001b[39m\u001b[39mJ. Anderson\u001b[39m\u001b[39m\"\u001b[39m,\n\u001b[0;32m   (...)\u001b[0m\n\u001b[1;32m     <a href='vscode-notebook-cell:Untitled-1.ipynb?jupyter-notebook#W2sdW50aXRsZWQ%3D?line=15'>16</a>\u001b[0m     \u001b[39m\"\u001b[39m\u001b[39mPHY 2048\u001b[39m\u001b[39m\"\u001b[39m: \u001b[39m\"\u001b[39m\u001b[39mG. Pradhan\u001b[39m\u001b[39m\"\u001b[39m\n\u001b[1;32m     <a href='vscode-notebook-cell:Untitled-1.ipynb?jupyter-notebook#W2sdW50aXRsZWQ%3D?line=16'>17</a>\u001b[0m }\n\u001b[1;32m     <a href='vscode-notebook-cell:Untitled-1.ipynb?jupyter-notebook#W2sdW50aXRsZWQ%3D?line=18'>19</a>\u001b[0m course_class_times\u001b[39m=\u001b[39m {\n\u001b[1;32m     <a href='vscode-notebook-cell:Untitled-1.ipynb?jupyter-notebook#W2sdW50aXRsZWQ%3D?line=19'>20</a>\u001b[0m     \u001b[39m\"\u001b[39m\u001b[39mCOP 2510\u001b[39m\u001b[39m\"\u001b[39m: \u001b[39m\"\u001b[39m\u001b[39mMW 12:30pm – 1:45pm\u001b[39m\u001b[39m\"\u001b[39m,\n\u001b[1;32m     <a href='vscode-notebook-cell:Untitled-1.ipynb?jupyter-notebook#W2sdW50aXRsZWQ%3D?line=20'>21</a>\u001b[0m     \u001b[39m\"\u001b[39m\u001b[39mEGN 3000L\u001b[39m\u001b[39m\"\u001b[39m: \u001b[39m\"\u001b[39m\u001b[39mTR 11:00am – 12:15pm\u001b[39m\u001b[39m\"\u001b[39m,\n\u001b[0;32m   (...)\u001b[0m\n\u001b[1;32m     <a href='vscode-notebook-cell:Untitled-1.ipynb?jupyter-notebook#W2sdW50aXRsZWQ%3D?line=23'>24</a>\u001b[0m     \u001b[39m\"\u001b[39m\u001b[39mPHY 2048\u001b[39m\u001b[39m\"\u001b[39m: \u001b[39m\"\u001b[39m\u001b[39mTR 5:00pm – 6:15pm\u001b[39m\u001b[39m\"\u001b[39m\n\u001b[1;32m     <a href='vscode-notebook-cell:Untitled-1.ipynb?jupyter-notebook#W2sdW50aXRsZWQ%3D?line=24'>25</a>\u001b[0m }\n\u001b[0;32m---> <a href='vscode-notebook-cell:Untitled-1.ipynb?jupyter-notebook#W2sdW50aXRsZWQ%3D?line=26'>27</a>\u001b[0m user_input \u001b[39m=\u001b[39m \u001b[39minput\u001b[39;49m(\u001b[39m\"\u001b[39;49m\u001b[39mEnter a course number: \u001b[39;49m\u001b[39m\"\u001b[39;49m)\n\u001b[1;32m     <a href='vscode-notebook-cell:Untitled-1.ipynb?jupyter-notebook#W2sdW50aXRsZWQ%3D?line=28'>29</a>\u001b[0m \u001b[39mif\u001b[39;00m user_input \u001b[39min\u001b[39;00m course_numbers:\n\u001b[1;32m     <a href='vscode-notebook-cell:Untitled-1.ipynb?jupyter-notebook#W2sdW50aXRsZWQ%3D?line=29'>30</a>\u001b[0m     \u001b[39mprint\u001b[39m(\u001b[39m\"\u001b[39m\u001b[39mThe course details are:\u001b[39m\u001b[39m\"\u001b[39m)\n",
      "File \u001b[0;32m/Library/Frameworks/Python.framework/Versions/3.11/lib/python3.11/site-packages/ipykernel/kernelbase.py:1202\u001b[0m, in \u001b[0;36mKernel.raw_input\u001b[0;34m(self, prompt)\u001b[0m\n\u001b[1;32m   1200\u001b[0m     msg \u001b[39m=\u001b[39m \u001b[39m\"\u001b[39m\u001b[39mraw_input was called, but this frontend does not support input requests.\u001b[39m\u001b[39m\"\u001b[39m\n\u001b[1;32m   1201\u001b[0m     \u001b[39mraise\u001b[39;00m StdinNotImplementedError(msg)\n\u001b[0;32m-> 1202\u001b[0m \u001b[39mreturn\u001b[39;00m \u001b[39mself\u001b[39;49m\u001b[39m.\u001b[39;49m_input_request(\n\u001b[1;32m   1203\u001b[0m     \u001b[39mstr\u001b[39;49m(prompt),\n\u001b[1;32m   1204\u001b[0m     \u001b[39mself\u001b[39;49m\u001b[39m.\u001b[39;49m_parent_ident[\u001b[39m\"\u001b[39;49m\u001b[39mshell\u001b[39;49m\u001b[39m\"\u001b[39;49m],\n\u001b[1;32m   1205\u001b[0m     \u001b[39mself\u001b[39;49m\u001b[39m.\u001b[39;49mget_parent(\u001b[39m\"\u001b[39;49m\u001b[39mshell\u001b[39;49m\u001b[39m\"\u001b[39;49m),\n\u001b[1;32m   1206\u001b[0m     password\u001b[39m=\u001b[39;49m\u001b[39mFalse\u001b[39;49;00m,\n\u001b[1;32m   1207\u001b[0m )\n",
      "File \u001b[0;32m/Library/Frameworks/Python.framework/Versions/3.11/lib/python3.11/site-packages/ipykernel/kernelbase.py:1245\u001b[0m, in \u001b[0;36mKernel._input_request\u001b[0;34m(self, prompt, ident, parent, password)\u001b[0m\n\u001b[1;32m   1242\u001b[0m \u001b[39mexcept\u001b[39;00m \u001b[39mKeyboardInterrupt\u001b[39;00m:\n\u001b[1;32m   1243\u001b[0m     \u001b[39m# re-raise KeyboardInterrupt, to truncate traceback\u001b[39;00m\n\u001b[1;32m   1244\u001b[0m     msg \u001b[39m=\u001b[39m \u001b[39m\"\u001b[39m\u001b[39mInterrupted by user\u001b[39m\u001b[39m\"\u001b[39m\n\u001b[0;32m-> 1245\u001b[0m     \u001b[39mraise\u001b[39;00m \u001b[39mKeyboardInterrupt\u001b[39;00m(msg) \u001b[39mfrom\u001b[39;00m \u001b[39mNone\u001b[39;00m\n\u001b[1;32m   1246\u001b[0m \u001b[39mexcept\u001b[39;00m \u001b[39mException\u001b[39;00m:\n\u001b[1;32m   1247\u001b[0m     \u001b[39mself\u001b[39m\u001b[39m.\u001b[39mlog\u001b[39m.\u001b[39mwarning(\u001b[39m\"\u001b[39m\u001b[39mInvalid Message:\u001b[39m\u001b[39m\"\u001b[39m, exc_info\u001b[39m=\u001b[39m\u001b[39mTrue\u001b[39;00m)\n",
      "\u001b[0;31mKeyboardInterrupt\u001b[0m: Interrupted by user"
     ]
    }
   ],
   "source": [
    "\n",
    "course_numbers= (\"COP 2510\", \"EGN 3000L\", \"MAC 2281\", \"MUH 3016\", \"PHY 2048\")\n",
    "\n",
    "course_names= {\n",
    "    \"COP 2510\": \"Programming Concepts\",\n",
    "    \"EGN 3000L\": \"Foundations of Engineering Lab\",\n",
    "    \"MAC 2281\": \"Calculus I\",\n",
    "    \"MUH 3016\": \"Survey of Jazz\",\n",
    "    \"PHY 2048\": \"General Physics I\"\n",
    "}\n",
    "\n",
    "course_instructors= {\n",
    "    \"COP 2510\": \"Z. Beasley\",\n",
    "    \"EGN 3000L\": \"J. Anderson\",\n",
    "    \"MAC 2281\": \"A. Makaryus\",\n",
    "    \"MUH 3016\": \"A. Wilkins\",\n",
    "    \"PHY 2048\": \"G. Pradhan\"\n",
    "}\n",
    "\n",
    "course_class_times= {\n",
    "    \"COP 2510\": \"MW 12:30pm – 1:45pm\",\n",
    "    \"EGN 3000L\": \"TR 11:00am – 12:15pm\",\n",
    "    \"MAC 2281\": \"MW 9:30am – 10:45am\",\n",
    "    \"MUH 3016\": \"online asynchronous\",\n",
    "    \"PHY 2048\": \"TR 5:00pm – 6:15pm\"\n",
    "}\n",
    "\n",
    "user_input = input(\"Enter a course number: \")\n",
    "\n",
    "if user_input in course_numbers:\n",
    "    print(\"The course details are:\")\n",
    "    print(f\"Course Number: {user_input}\")\n",
    "    print(f\"Course Name: {course_names[user_input]}\")\n",
    "    print(f\"Instructor: {course_instructors[user_input]}\")\n",
    "    print(f\"Class Times: {course_class_times[user_input]}\")\n",
    "else:\n",
    "    print(f\"{user_input} is an invalid course number.\")"
   ]
  },
  {
   "cell_type": "markdown",
   "metadata": {},
   "source": []
  },
  {
   "cell_type": "code",
   "execution_count": 10,
   "metadata": {},
   "outputs": [
    {
     "name": "stdout",
     "output_type": "stream",
     "text": [
      "\n",
      "Sales Data for the Week:\n",
      "Monday: $700.00\n",
      "Tuesday: $700.00\n",
      "Wednesday: $700.00\n",
      "Thursday: $700.00\n",
      "Friday: $700.00\n",
      "Saturday: $700.00\n",
      "Sunday: $700.00\n",
      "Total Sales for the Week: $700.00\n",
      "Minimum Sales Amount: $100.00\n",
      "Maximum Sales Amount: $100.00\n"
     ]
    }
   ],
   "source": [
    "days_of_the_week = (\"Monday\", \"Tuesday\", \"Wednesday\", \"Thursday\", \"Friday\", \"Saturday\", \"Sunday\")\n",
    "sales_data = []\n",
    "\n",
    "def get_sales_input(day):\n",
    "    ask = int(input(f\"Enter data for {day}: \"))\n",
    "    if ask <= 0:\n",
    "        ask = input(f\"Invalid, Enter data again for {day}: \")\n",
    "    else:\n",
    "        sales_data.append(ask)\n",
    "\n",
    "for day in days_of_the_week:\n",
    "    sales = get_sales_input(day)\n",
    "\n",
    "total_sales = sum(sales_data)\n",
    "min_sales = min(sales_data)\n",
    "max_sales = max(sales_data)\n",
    "\n",
    "formatted_total_sales = \"${:,.2f}\".format(total_sales)\n",
    "formatted_min_sales = \"${:,.2f}\".format(min_sales)\n",
    "formatted_max_sales = \"${:,.2f}\".format(max_sales)\n",
    "\n",
    "print(\"\\nSales Data for the Week:\")\n",
    "for i, day in enumerate(days_of_the_week):\n",
    "    print(f\"{day}: {formatted_total_sales}\")\n",
    "\n",
    "print(f\"Total Sales for the Week: {formatted_total_sales}\")\n",
    "print(f\"Minimum Sales Amount: {formatted_min_sales}\")\n",
    "print(f\"Maximum Sales Amount: {formatted_max_sales}\")"
   ]
  },
  {
   "cell_type": "code",
   "execution_count": 13,
   "metadata": {},
   "outputs": [
    {
     "name": "stdout",
     "output_type": "stream",
     "text": [
      ".- -... .- \n"
     ]
    }
   ],
   "source": [
    "morse_code = {\n",
    "    'A': '.-', 'B': '-...', 'C': '-.-.', 'D': '-..', 'E': '.', 'F': '..-.', 'G': '--.', 'H': '....',\n",
    "    'I': '..', 'J': '.---', 'K': '-.-', 'L': '.-..', 'M': '--', 'N': '-.', 'O': '---', 'P': '.--.',\n",
    "    'Q': '--.-', 'R': '.-.', 'S': '...', 'T': '-', 'U': '..-', 'V': '...-', 'W': '.--', 'X': '-..-',\n",
    "    'Y': '-.--', 'Z': '--..',\n",
    "    '0': '-----', '1': '.----', '2': '..---', '3': '...--', '4': '....-', '5': '.....',\n",
    "    '6': '-....', '7': '--...', '8': '---..', '9': '----.',\n",
    "    ',': '--..--', '.': '.-.-.-', '?': '..--..' \n",
    "}\n",
    "\n",
    "morse_tuple = [(k, v) for k, v in morse_code.items()]\n",
    "# print(morse_tuple)\n",
    "\n",
    "input_str = input(\"Enter a string: \").upper()\n",
    "\n",
    "def textToMorse(text):\n",
    "    morse = \"\"\n",
    "    for character in text:\n",
    "        if character == ' ':\n",
    "            morse += ' '\n",
    "        else:\n",
    "            for tuple in morse_tuple:\n",
    "                if character == tuple[0]:\n",
    "                    morse += tuple[1] + ' '\n",
    "    print(morse)\n",
    "\n",
    "textToMorse(input_str)"
   ]
  }
 ],
 "metadata": {
  "kernelspec": {
   "display_name": "Python 3",
   "language": "python",
   "name": "python3"
  },
  "language_info": {
   "codemirror_mode": {
    "name": "ipython",
    "version": 3
   },
   "file_extension": ".py",
   "mimetype": "text/x-python",
   "name": "python",
   "nbconvert_exporter": "python",
   "pygments_lexer": "ipython3",
   "version": "3.11.5"
  },
  "orig_nbformat": 4
 },
 "nbformat": 4,
 "nbformat_minor": 2
}
